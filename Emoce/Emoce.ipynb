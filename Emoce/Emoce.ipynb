{
 "cells": [
  {
   "cell_type": "markdown",
   "metadata": {},
   "source": [
    "# Seminář obecné psychologie - Rozpoznávání ne/pravého úsměvu\n",
    "\n",
    "## Úvod\n",
    "\n",
    "Francouzský lékař [Guillaume Duchenne](https://cs.wikipedia.org/wiki/Guillaume_Duchenne_de_Boulogne) (1806– 1875) a jeho dobrovolník při stimulaci obličejových svalů elektrickým proudem za účelem identifikace svalů, které jsou zapojené v různých obličejových výrazech.\n",
    "\n",
    "<img src=\"www/duchenne.png\">"
   ]
  },
  {
   "cell_type": "markdown",
   "metadata": {},
   "source": [
    "Guillaume Duchenne zjistil, že pravý úsměv zahrnuje nejen zygomaticus major (zvedající koutky úst), ale také orbicularis oculi (vytvářející „vějířky“ okolo očí), který není na rozdíl od z.m. pod volní kontrolou.\n",
    "\n",
    "<img src=\"www/oblicejove_svaly.png\">"
   ]
  },
  {
   "cell_type": "markdown",
   "metadata": {},
   "source": [
    "Psycholog [Paul Ekman](https://cs.wikipedia.org/wiki/Paul_Ekman), známý výzkumník v oblasti vyjadřování emocí prostřednictvím mimických výrazů ve tváři, demonstruje dva druhy úsměvů - duchennovský (pravý) úsměv (vlevo) a neduchennovský (nepravý) úsměv (vpravo).   \n",
    "<img src=\"www/ekman_duchenne.png\">"
   ]
  },
  {
   "cell_type": "markdown",
   "metadata": {},
   "source": [
    "Klíčový je rozdíl ve výrazu v oblasti očí - viz detail níže. \n",
    "\n",
    "<img src=\"www/oci.png\">"
   ]
  },
  {
   "cell_type": "markdown",
   "metadata": {},
   "source": [
    "A nyní v celku i se zbytkem obličeje.  \n",
    "\n",
    "<img src=\"www/oblicej.png\">"
   ]
  },
  {
   "cell_type": "markdown",
   "metadata": {},
   "source": [
    "## Výzkumná úloha ze semináře\n",
    "\n",
    "### Hlavní výzkumná otázka\n",
    "* Dokážou lidé rozpoznat pravý úsměv od nepravého?\n",
    "\n",
    "### Měřená proměnná\n",
    "* Počet úspěšných identifikací ne/pravého úsměvu v rámci 20 pokusů.\n",
    "\n",
    "### Statistická hypotéza\n",
    "* Lidé dokážou správně rozpoznat ne/pravý úsměv častěji než by odpovídalo prostému hádání (tzn., že budou úspěšní ve více jak 10 pokusech z 20).\n",
    "\n",
    "### Vedlejší výzkumné otázky zkoumané v rámci explorativní analýzy\n",
    "* Jaký je vztah mezi schopností rozpoznávat ne/pravý úsměv a emoční inteligencí, sociální inteligencí, obecnou inteligencí, \"big-five\" osobnostními charakteristikami a pohlavím (viz data z předchozího výzkumu).\n",
    "\n",
    "### Podnětový materiál\n",
    "<img src=\"www/podnety.png\">\n",
    "(https://www.surveymonkey.com/r/SmileRead)\n",
    "\n",
    "### Data"
   ]
  },
  {
   "cell_type": "code",
   "execution_count": 1,
   "metadata": {},
   "outputs": [
    {
     "name": "stderr",
     "output_type": "stream",
     "text": [
      "-- Attaching packages --------------------------------------- tidyverse 1.2.1 --\n",
      "<U+221A> ggplot2 2.2.1     <U+221A> purrr   0.2.4\n",
      "<U+221A> tibble  1.4.2     <U+221A> dplyr   0.7.4\n",
      "<U+221A> tidyr   0.8.0     <U+221A> stringr 1.3.0\n",
      "<U+221A> readr   1.1.1     <U+221A> forcats 0.3.0\n",
      "-- Conflicts ------------------------------------------ tidyverse_conflicts() --\n",
      "x dplyr::filter() masks stats::filter()\n",
      "x dplyr::lag()    masks stats::lag()\n",
      "Parsed with column specification:\n",
      "cols(\n",
      "  Vek = col_integer(),\n",
      "  Pohlavi = col_integer(),\n",
      "  Emocni_inteligence = col_integer(),\n",
      "  Social_information_processing = col_integer(),\n",
      "  Social_skills = col_integer(),\n",
      "  Social_awareness = col_integer(),\n",
      "  Obecna_inteligence = col_integer(),\n",
      "  Extraverze = col_double(),\n",
      "  Privetivost = col_double(),\n",
      "  Svedomitost = col_double(),\n",
      "  Emocni_Stabilita = col_double(),\n",
      "  Otevrenost = col_double(),\n",
      "  Fake_smiles_score = col_integer()\n",
      ")\n"
     ]
    },
    {
     "name": "stdout",
     "output_type": "stream",
     "text": [
      "Observations: 65\n",
      "Variables: 13\n",
      "$ Vek                           <int> 20, 20, 21, 21, 23, 21, 19, 20, 19, 2...\n",
      "$ Pohlavi                       <int> 0, 0, 1, 0, 0, 0, 0, 0, 0, 0, 0, 0, 1...\n",
      "$ Emocni_inteligence            <int> 127, NA, 161, 101, NA, 133, 144, 121,...\n",
      "$ Social_information_processing <int> 33, NA, 48, 29, NA, 45, 42, 38, 44, 3...\n",
      "$ Social_skills                 <int> 33, NA, 47, 21, NA, 45, 36, 37, 26, 3...\n",
      "$ Social_awareness              <int> 36, NA, 36, 22, NA, 43, 44, 46, 38, 4...\n",
      "$ Obecna_inteligence            <int> 11, NA, 10, 12, NA, 12, 11, 13, 13, 1...\n",
      "$ Extraverze                    <dbl> 4.0, 5.5, 6.0, NA, NA, 6.0, 4.5, NA, ...\n",
      "$ Privetivost                   <dbl> 5.5, 4.5, 5.5, NA, NA, 5.0, 4.5, NA, ...\n",
      "$ Svedomitost                   <dbl> 6.5, 3.5, 6.5, NA, NA, 7.0, 5.5, NA, ...\n",
      "$ Emocni_Stabilita              <dbl> 6.0, 4.0, 6.0, NA, NA, 5.5, 1.5, NA, ...\n",
      "$ Otevrenost                    <dbl> 4.5, 6.5, 6.5, NA, NA, 4.5, 5.5, NA, ...\n",
      "$ Fake_smiles_score             <int> 14, NA, 14, 13, NA, 17, 18, 16, NA, 1...\n"
     ]
    }
   ],
   "source": [
    "library(tidyverse)\n",
    "mydata <- read_delim(\"./Data_FakeSmiles.csv\", delim = \";\")\n",
    "glimpse(mydata)\n",
    "mydata$Pohlavi <- as.factor(ifelse(mydata$Pohlavi == 1, \"M\",\"F\"))"
   ]
  },
  {
   "cell_type": "markdown",
   "metadata": {},
   "source": [
    "### Popis výzkumného souboru"
   ]
  },
  {
   "cell_type": "code",
   "execution_count": 2,
   "metadata": {},
   "outputs": [
    {
     "name": "stderr",
     "output_type": "stream",
     "text": [
      "Loading required package: lattice\n",
      "Loading required package: survival\n",
      "Loading required package: Formula\n",
      "\n",
      "Attaching package: 'Hmisc'\n",
      "\n",
      "The following objects are masked from 'package:dplyr':\n",
      "\n",
      "    src, summarize\n",
      "\n",
      "The following objects are masked from 'package:base':\n",
      "\n",
      "    format.pval, units\n",
      "\n"
     ]
    },
    {
     "data": {
      "text/plain": [
       ". \n",
       "\n",
       " 1  Variables      65  Observations\n",
       "--------------------------------------------------------------------------------\n",
       "Vek \n",
       "       n  missing distinct     Info     Mean      Gmd      .05      .10 \n",
       "      65        0       10    0.937    21.08    2.403     19.0     19.0 \n",
       "     .25      .50      .75      .90      .95 \n",
       "    20.0     20.0     21.0     22.6     24.8 \n",
       "                                                                      \n",
       "Value         19    20    21    22    23    24    25    26    29    43\n",
       "Frequency     14    23    12     9     1     2     1     1     1     1\n",
       "Proportion 0.215 0.354 0.185 0.138 0.015 0.031 0.015 0.015 0.015 0.015\n",
       "--------------------------------------------------------------------------------"
      ]
     },
     "metadata": {},
     "output_type": "display_data"
    }
   ],
   "source": [
    "# Z hlediska věku probandů\n",
    "library(Hmisc)\n",
    "mydata %>%\n",
    "select(Vek) %>%\n",
    "Hmisc::describe()"
   ]
  },
  {
   "cell_type": "code",
   "execution_count": 3,
   "metadata": {},
   "outputs": [
    {
     "data": {
      "text/plain": [
       "\n",
       " F  M \n",
       "55 10 "
      ]
     },
     "metadata": {},
     "output_type": "display_data"
    },
    {
     "data": {
      "text/plain": [
       "\n",
       "   F    M \n",
       "0.85 0.15 "
      ]
     },
     "metadata": {},
     "output_type": "display_data"
    }
   ],
   "source": [
    "# Z hlediska pohlaví probandů\n",
    "table(mydata$Pohlavi)\n",
    "round(prop.table(table(mydata$Pohlavi)),2)"
   ]
  },
  {
   "cell_type": "markdown",
   "metadata": {},
   "source": [
    "### Popisná statistika sledované proměnné"
   ]
  },
  {
   "cell_type": "code",
   "execution_count": 4,
   "metadata": {},
   "outputs": [
    {
     "name": "stderr",
     "output_type": "stream",
     "text": [
      "\n",
      "Attaching package: 'psych'\n",
      "\n",
      "The following object is masked from 'package:Hmisc':\n",
      "\n",
      "    describe\n",
      "\n",
      "The following objects are masked from 'package:ggplot2':\n",
      "\n",
      "    %+%, alpha\n",
      "\n"
     ]
    },
    {
     "data": {
      "text/html": [
       "<table>\n",
       "<thead><tr><th></th><th scope=col>vars</th><th scope=col>n</th><th scope=col>mean</th><th scope=col>sd</th><th scope=col>median</th><th scope=col>trimmed</th><th scope=col>mad</th><th scope=col>min</th><th scope=col>max</th><th scope=col>range</th><th scope=col>skew</th><th scope=col>kurtosis</th><th scope=col>se</th></tr></thead>\n",
       "<tbody>\n",
       "\t<tr><th scope=row>Emocni_inteligence</th><td> 1          </td><td>55          </td><td>127.327273  </td><td>11.8197176  </td><td>126.0       </td><td>127.244444  </td><td>10.37820    </td><td>99.0        </td><td>161.0       </td><td>62.0        </td><td> 0.182416137</td><td> 0.2972917  </td><td>1.5937704   </td></tr>\n",
       "\t<tr><th scope=row>Social_information_processing</th><td> 2          </td><td>55          </td><td> 39.400000  </td><td> 4.4663350  </td><td> 39.0       </td><td> 39.555556  </td><td> 4.44780    </td><td>29.0        </td><td> 49.0       </td><td>20.0        </td><td>-0.337159605</td><td> 0.0317880  </td><td>0.6022405   </td></tr>\n",
       "\t<tr><th scope=row>Social_skills</th><td> 3          </td><td>55          </td><td> 33.072727  </td><td> 8.4368121  </td><td> 33.0       </td><td> 33.222222  </td><td>10.37820    </td><td>16.0        </td><td> 47.0       </td><td>31.0        </td><td>-0.218916976</td><td>-1.0874199  </td><td>1.1376195   </td></tr>\n",
       "\t<tr><th scope=row>Social_awareness</th><td> 4          </td><td>53          </td><td> 38.660377  </td><td> 6.0158234  </td><td> 40.0       </td><td> 39.325581  </td><td> 5.93040    </td><td>22.0        </td><td> 48.0       </td><td>26.0        </td><td>-0.904818431</td><td> 0.3305199  </td><td>0.8263369   </td></tr>\n",
       "\t<tr><th scope=row>Obecna_inteligence</th><td> 5          </td><td>49          </td><td> 11.510204  </td><td> 1.5427579  </td><td> 12.0       </td><td> 11.487805  </td><td> 1.48260    </td><td> 9.0        </td><td> 15.0       </td><td> 6.0        </td><td> 0.131320092</td><td>-0.7771163  </td><td>0.2203940   </td></tr>\n",
       "\t<tr><th scope=row>Extraverze</th><td> 6          </td><td>42          </td><td>  4.142857  </td><td> 1.3264923  </td><td>  4.0       </td><td>  4.147059  </td><td> 1.48260    </td><td> 1.0        </td><td>  6.5       </td><td> 5.5        </td><td>-0.064171692</td><td>-0.7603101  </td><td>0.2046822   </td></tr>\n",
       "\t<tr><th scope=row>Privetivost</th><td> 7          </td><td>42          </td><td>  5.297619  </td><td> 0.7813335  </td><td>  5.0       </td><td>  5.264706  </td><td> 0.74130    </td><td> 3.5        </td><td>  7.0       </td><td> 3.5        </td><td> 0.145744518</td><td>-0.8068192  </td><td>0.1205624   </td></tr>\n",
       "\t<tr><th scope=row>Svedomitost</th><td> 8          </td><td>42          </td><td>  5.369048  </td><td> 1.2200536  </td><td>  5.5       </td><td>  5.470588  </td><td> 1.48260    </td><td> 1.5        </td><td>  7.0       </td><td> 5.5        </td><td>-0.951216912</td><td> 0.8887741  </td><td>0.1882584   </td></tr>\n",
       "\t<tr><th scope=row>Emocni_Stabilita</th><td> 9          </td><td>42          </td><td>  4.047619  </td><td> 1.4725518  </td><td>  4.0       </td><td>  4.058824  </td><td> 1.85325    </td><td> 1.5        </td><td>  6.5       </td><td> 5.0        </td><td>-0.001530203</td><td>-1.2830026  </td><td>0.2272197   </td></tr>\n",
       "\t<tr><th scope=row>Otevrenost</th><td>10          </td><td>42          </td><td>  5.190476  </td><td> 1.1736559  </td><td>  5.5       </td><td>  5.294118  </td><td> 0.74130    </td><td> 2.5        </td><td>  7.0       </td><td> 4.5        </td><td>-0.682064270</td><td>-0.3374073  </td><td>0.1810990   </td></tr>\n",
       "\t<tr><th scope=row>Fake_smiles_score</th><td>11          </td><td>52          </td><td> 15.788462  </td><td> 2.8924278  </td><td> 16.0       </td><td> 16.071429  </td><td> 2.96520    </td><td> 1.0        </td><td> 20.0       </td><td>19.0        </td><td>-2.553989171</td><td>10.6913522  </td><td>0.4011076   </td></tr>\n",
       "</tbody>\n",
       "</table>\n"
      ],
      "text/latex": [
       "\\begin{tabular}{r|lllllllllllll}\n",
       "  & vars & n & mean & sd & median & trimmed & mad & min & max & range & skew & kurtosis & se\\\\\n",
       "\\hline\n",
       "\tEmocni\\_inteligence &  1           & 55           & 127.327273   & 11.8197176   & 126.0        & 127.244444   & 10.37820     & 99.0         & 161.0        & 62.0         &  0.182416137 &  0.2972917   & 1.5937704   \\\\\n",
       "\tSocial\\_information\\_processing &  2           & 55           &  39.400000   &  4.4663350   &  39.0        &  39.555556   &  4.44780     & 29.0         &  49.0        & 20.0         & -0.337159605 &  0.0317880   & 0.6022405   \\\\\n",
       "\tSocial\\_skills &  3           & 55           &  33.072727   &  8.4368121   &  33.0        &  33.222222   & 10.37820     & 16.0         &  47.0        & 31.0         & -0.218916976 & -1.0874199   & 1.1376195   \\\\\n",
       "\tSocial\\_awareness &  4           & 53           &  38.660377   &  6.0158234   &  40.0        &  39.325581   &  5.93040     & 22.0         &  48.0        & 26.0         & -0.904818431 &  0.3305199   & 0.8263369   \\\\\n",
       "\tObecna\\_inteligence &  5           & 49           &  11.510204   &  1.5427579   &  12.0        &  11.487805   &  1.48260     &  9.0         &  15.0        &  6.0         &  0.131320092 & -0.7771163   & 0.2203940   \\\\\n",
       "\tExtraverze &  6           & 42           &   4.142857   &  1.3264923   &   4.0        &   4.147059   &  1.48260     &  1.0         &   6.5        &  5.5         & -0.064171692 & -0.7603101   & 0.2046822   \\\\\n",
       "\tPrivetivost &  7           & 42           &   5.297619   &  0.7813335   &   5.0        &   5.264706   &  0.74130     &  3.5         &   7.0        &  3.5         &  0.145744518 & -0.8068192   & 0.1205624   \\\\\n",
       "\tSvedomitost &  8           & 42           &   5.369048   &  1.2200536   &   5.5        &   5.470588   &  1.48260     &  1.5         &   7.0        &  5.5         & -0.951216912 &  0.8887741   & 0.1882584   \\\\\n",
       "\tEmocni\\_Stabilita &  9           & 42           &   4.047619   &  1.4725518   &   4.0        &   4.058824   &  1.85325     &  1.5         &   6.5        &  5.0         & -0.001530203 & -1.2830026   & 0.2272197   \\\\\n",
       "\tOtevrenost & 10           & 42           &   5.190476   &  1.1736559   &   5.5        &   5.294118   &  0.74130     &  2.5         &   7.0        &  4.5         & -0.682064270 & -0.3374073   & 0.1810990   \\\\\n",
       "\tFake\\_smiles\\_score & 11           & 52           &  15.788462   &  2.8924278   &  16.0        &  16.071429   &  2.96520     &  1.0         &  20.0        & 19.0         & -2.553989171 & 10.6913522   & 0.4011076   \\\\\n",
       "\\end{tabular}\n"
      ],
      "text/markdown": [
       "\n",
       "| <!--/--> | vars | n | mean | sd | median | trimmed | mad | min | max | range | skew | kurtosis | se | \n",
       "|---|---|---|---|---|---|---|---|---|---|---|\n",
       "| Emocni_inteligence |  1           | 55           | 127.327273   | 11.8197176   | 126.0        | 127.244444   | 10.37820     | 99.0         | 161.0        | 62.0         |  0.182416137 |  0.2972917   | 1.5937704    | \n",
       "| Social_information_processing |  2           | 55           |  39.400000   |  4.4663350   |  39.0        |  39.555556   |  4.44780     | 29.0         |  49.0        | 20.0         | -0.337159605 |  0.0317880   | 0.6022405    | \n",
       "| Social_skills |  3           | 55           |  33.072727   |  8.4368121   |  33.0        |  33.222222   | 10.37820     | 16.0         |  47.0        | 31.0         | -0.218916976 | -1.0874199   | 1.1376195    | \n",
       "| Social_awareness |  4           | 53           |  38.660377   |  6.0158234   |  40.0        |  39.325581   |  5.93040     | 22.0         |  48.0        | 26.0         | -0.904818431 |  0.3305199   | 0.8263369    | \n",
       "| Obecna_inteligence |  5           | 49           |  11.510204   |  1.5427579   |  12.0        |  11.487805   |  1.48260     |  9.0         |  15.0        |  6.0         |  0.131320092 | -0.7771163   | 0.2203940    | \n",
       "| Extraverze |  6           | 42           |   4.142857   |  1.3264923   |   4.0        |   4.147059   |  1.48260     |  1.0         |   6.5        |  5.5         | -0.064171692 | -0.7603101   | 0.2046822    | \n",
       "| Privetivost |  7           | 42           |   5.297619   |  0.7813335   |   5.0        |   5.264706   |  0.74130     |  3.5         |   7.0        |  3.5         |  0.145744518 | -0.8068192   | 0.1205624    | \n",
       "| Svedomitost |  8           | 42           |   5.369048   |  1.2200536   |   5.5        |   5.470588   |  1.48260     |  1.5         |   7.0        |  5.5         | -0.951216912 |  0.8887741   | 0.1882584    | \n",
       "| Emocni_Stabilita |  9           | 42           |   4.047619   |  1.4725518   |   4.0        |   4.058824   |  1.85325     |  1.5         |   6.5        |  5.0         | -0.001530203 | -1.2830026   | 0.2272197    | \n",
       "| Otevrenost | 10           | 42           |   5.190476   |  1.1736559   |   5.5        |   5.294118   |  0.74130     |  2.5         |   7.0        |  4.5         | -0.682064270 | -0.3374073   | 0.1810990    | \n",
       "| Fake_smiles_score | 11           | 52           |  15.788462   |  2.8924278   |  16.0        |  16.071429   |  2.96520     |  1.0         |  20.0        | 19.0         | -2.553989171 | 10.6913522   | 0.4011076    | \n",
       "\n",
       "\n"
      ],
      "text/plain": [
       "                              vars n  mean       sd         median trimmed   \n",
       "Emocni_inteligence             1   55 127.327273 11.8197176 126.0  127.244444\n",
       "Social_information_processing  2   55  39.400000  4.4663350  39.0   39.555556\n",
       "Social_skills                  3   55  33.072727  8.4368121  33.0   33.222222\n",
       "Social_awareness               4   53  38.660377  6.0158234  40.0   39.325581\n",
       "Obecna_inteligence             5   49  11.510204  1.5427579  12.0   11.487805\n",
       "Extraverze                     6   42   4.142857  1.3264923   4.0    4.147059\n",
       "Privetivost                    7   42   5.297619  0.7813335   5.0    5.264706\n",
       "Svedomitost                    8   42   5.369048  1.2200536   5.5    5.470588\n",
       "Emocni_Stabilita               9   42   4.047619  1.4725518   4.0    4.058824\n",
       "Otevrenost                    10   42   5.190476  1.1736559   5.5    5.294118\n",
       "Fake_smiles_score             11   52  15.788462  2.8924278  16.0   16.071429\n",
       "                              mad      min  max   range skew         kurtosis  \n",
       "Emocni_inteligence            10.37820 99.0 161.0 62.0   0.182416137  0.2972917\n",
       "Social_information_processing  4.44780 29.0  49.0 20.0  -0.337159605  0.0317880\n",
       "Social_skills                 10.37820 16.0  47.0 31.0  -0.218916976 -1.0874199\n",
       "Social_awareness               5.93040 22.0  48.0 26.0  -0.904818431  0.3305199\n",
       "Obecna_inteligence             1.48260  9.0  15.0  6.0   0.131320092 -0.7771163\n",
       "Extraverze                     1.48260  1.0   6.5  5.5  -0.064171692 -0.7603101\n",
       "Privetivost                    0.74130  3.5   7.0  3.5   0.145744518 -0.8068192\n",
       "Svedomitost                    1.48260  1.5   7.0  5.5  -0.951216912  0.8887741\n",
       "Emocni_Stabilita               1.85325  1.5   6.5  5.0  -0.001530203 -1.2830026\n",
       "Otevrenost                     0.74130  2.5   7.0  4.5  -0.682064270 -0.3374073\n",
       "Fake_smiles_score              2.96520  1.0  20.0 19.0  -2.553989171 10.6913522\n",
       "                              se       \n",
       "Emocni_inteligence            1.5937704\n",
       "Social_information_processing 0.6022405\n",
       "Social_skills                 1.1376195\n",
       "Social_awareness              0.8263369\n",
       "Obecna_inteligence            0.2203940\n",
       "Extraverze                    0.2046822\n",
       "Privetivost                   0.1205624\n",
       "Svedomitost                   0.1882584\n",
       "Emocni_Stabilita              0.2272197\n",
       "Otevrenost                    0.1810990\n",
       "Fake_smiles_score             0.4011076"
      ]
     },
     "metadata": {},
     "output_type": "display_data"
    }
   ],
   "source": [
    "# Popisná statistika ke všem sledovaným proměnným \n",
    "library(psych)\n",
    "mydata %>%\n",
    "select(-Vek, -Pohlavi) %>%\n",
    "psych::describe()"
   ]
  },
  {
   "cell_type": "code",
   "execution_count": 5,
   "metadata": {},
   "outputs": [
    {
     "name": "stderr",
     "output_type": "stream",
     "text": [
      "\n",
      "Attaching package: 'gridExtra'\n",
      "\n",
      "The following object is masked from 'package:dplyr':\n",
      "\n",
      "    combine\n",
      "\n",
      "Warning message:\n",
      "\"Removed 13 rows containing non-finite values (stat_boxplot).\"Warning message:\n",
      "\"Removed 13 rows containing non-finite values (stat_summary).\"Warning message:\n",
      "\"Removed 13 rows containing missing values (geom_point).\"Warning message:\n",
      "\"Removed 13 rows containing non-finite values (stat_bin).\""
     ]
    },
    {
     "data": {
      "image/png": "[encoded data removed]",
      "text/plain": [
       "plot without title"
      ]
     },
     "metadata": {},
     "output_type": "display_data"
    }
   ],
   "source": [
    "# Vizualizace distribuce skórů z úloh na rozpoznávání ne/pravých úsměvů\n",
    "library(gridExtra)\n",
    "graf1 <- ggplot(mydata, aes(Fake_smiles_score))+\n",
    "      geom_histogram(colour=\"white\", fill=\"lightblue\", binwidth = 1)+\n",
    "      scale_x_continuous(expand = c(0,0), limit = c(0, 20.5), breaks = seq(0,20,1))+\n",
    "      scale_y_continuous(expand = c(0,0), limit = c(0, 14), breaks = seq(0,14,2))+\n",
    "      xlab(\"Rozpoznávání ne/pravých úsměvů (hrubý skór)\")+\n",
    "      ylab(\"Četnost\")\n",
    "                        \n",
    "graf2 <- ggplot(mydata, aes(x = 1, y = Fake_smiles_score))+\n",
    "      geom_boxplot(outlier.shape = NA)+\n",
    "      geom_jitter(color = \"grey\", width = 0.3, height = 0.05)+\n",
    "      stat_summary(fun.y=mean, colour=\"red\", geom=\"point\", shape=18, size=3)+\n",
    "      coord_flip()+\n",
    "      scale_y_continuous(expand = c(0,0), limit = c(0, 20.5), breaks = seq(0,20,1))+\n",
    "      theme(axis.text.y=element_blank(),\n",
    "        axis.ticks.y=element_blank())+\n",
    "      xlab(\"Probandi\")+\n",
    "      ylab(\"Rozpoznávání ne/pravých úsměvů (hrubý skór)\")\n",
    "    \n",
    "grid.arrange(graf2, graf1, ncol=1)"
   ]
  },
  {
   "cell_type": "markdown",
   "metadata": {},
   "source": [
    "### Testování statistické hypotézy"
   ]
  },
  {
   "cell_type": "code",
   "execution_count": 6,
   "metadata": {},
   "outputs": [
    {
     "name": "stderr",
     "output_type": "stream",
     "text": [
      "Loading required package: rjags\n",
      "Loading required package: coda\n",
      "Linked to JAGS 4.3.0\n",
      "Loaded modules: basemod,bugs\n"
     ]
    },
    {
     "name": "stdout",
     "output_type": "stream",
     "text": [
      "  Data\n",
      "mydata$Fake_smiles_score, n = 52\n",
      "\n",
      "  Model parameters and generated quantities\n",
      "mu: the mean of mydata$Fake_smiles_score \n",
      "sigma: the scale of mydata$Fake_smiles_score , a consistent\n",
      "  estimate of SD when nu is large.\n",
      "nu: the degrees-of-freedom for the t distribution fitted to mydata$Fake_smiles_score \n",
      "eff_size: the effect size calculated as (mu - 10) / sigma\n",
      "x_pred: predicted distribution for a new datapoint generated as mydata$Fake_smiles_score \n",
      "\n",
      "  Measures\n",
      "           mean    sd  HDIlo  HDIup %<comp %>comp\n",
      "mu       16.193 0.330 15.558 16.855  0.000  1.000\n",
      "sigma     1.922 0.314  1.319  2.544  1.000  0.000\n",
      "nu        5.580 4.007  1.311 12.164  0.916  0.084\n",
      "eff_size  3.319 0.632  2.157  4.565  1.000  0.000\n",
      "x_pred   16.185 3.119 10.950 21.492  0.016  0.984\n",
      "\n",
      "'HDIlo' and 'HDIup' are the limits of a 95% HDI credible interval.\n",
      "'%<comp' and '%>comp' are the probabilities of the respective parameter being\n",
      "smaller or larger than 10.\n",
      "\n",
      "  Quantiles\n",
      "          q2.5%   q25% median   q75% q97.5%\n",
      "mu       15.527 15.977 16.198 16.416 16.827\n",
      "sigma     1.354  1.706  1.904  2.117  2.593\n",
      "nu        1.846  3.281  4.578  6.585 15.293\n",
      "eff_size  2.282  2.881  3.247  3.675  4.766\n",
      "x_pred   10.861 14.784 16.224 17.606 21.428\n"
     ]
    },
    {
     "data": {
      "image/png": "[encoded data removed]",
      "text/plain": [
       "Plot with title \"Effect Size\""
      ]
     },
     "metadata": {},
     "output_type": "display_data"
    }
   ],
   "source": [
    "# Bayesovský jednovýběrový t-test \n",
    "library(BayesianFirstAid)\n",
    "fit <- bayes.t.test(mydata$Fake_smiles_score, conf.int=0.99, mu=10)\n",
    "plot(fit)\n",
    "summary(fit)"
   ]
  },
  {
   "cell_type": "code",
   "execution_count": 7,
   "metadata": {},
   "outputs": [
    {
     "data": {
      "text/plain": [
       "\n",
       "\tOne Sample t-test\n",
       "\n",
       "data:  mydata$Fake_smiles_score\n",
       "t = 14.431, df = 51, p-value < 2.2e-16\n",
       "alternative hypothesis: true mean is greater than 10\n",
       "95 percent confidence interval:\n",
       " 15.11649      Inf\n",
       "sample estimates:\n",
       "mean of x \n",
       " 15.78846 \n"
      ]
     },
     "metadata": {},
     "output_type": "display_data"
    }
   ],
   "source": [
    "# Klasický jednováběrový t-test\n",
    "t.test(mydata$Fake_smiles_score, conf.int=0.99, mu=10, alternative = \"greater\")"
   ]
  },
  {
   "cell_type": "markdown",
   "metadata": {},
   "source": [
    "### Explorační analýza"
   ]
  },
  {
   "cell_type": "code",
   "execution_count": 8,
   "metadata": {},
   "outputs": [
    {
     "name": "stderr",
     "output_type": "stream",
     "text": [
      "corrplot 0.84 loaded\n"
     ]
    },
    {
     "data": {
      "image/png": "[encoded data removed]",
      "text/plain": [
       "Plot with title \"\""
      ]
     },
     "metadata": {},
     "output_type": "display_data"
    }
   ],
   "source": [
    "# Korelační matice\n",
    "library(corrplot)\n",
    "col <- colorRampPalette(c(\"#BB4444\", \"#EE9988\", \"#FFFFFF\", \"#77AADD\", \"#4477AA\"))\n",
    "\n",
    "M <- mydata %>%\n",
    "select(-Vek, -Pohlavi) %>%\n",
    "cor(use=\"pairwise.complete.obs\", method=\"pearson\")\n",
    "\n",
    "res <- mydata %>%\n",
    "select(-Vek, -Pohlavi) %>%\n",
    "cor.mtest(conf.level = .95)\n",
    "\n",
    "corrplot(M, method = \"color\", col = col(200),\n",
    "         type = \"upper\", order = \"AOE\", number.cex = .7, # AOE, hclust, FPC\n",
    "         addCoef.col = \"black\", # Add coefficient of correlation\n",
    "         tl.col = \"black\", tl.srt = 90, # Text label color and rotation\n",
    "         # Combine with significance\n",
    "         p.mat = res$p, sig.level = 0.05, insig = \"blank\", \n",
    "         # hide correlation coefficient on the principal diagonal\n",
    "         diag = FALSE)"
   ]
  },
  {
   "cell_type": "code",
   "execution_count": 9,
   "metadata": {},
   "outputs": [
    {
     "name": "stderr",
     "output_type": "stream",
     "text": [
      "Loading required package: magrittr\n",
      "\n",
      "Attaching package: 'magrittr'\n",
      "\n",
      "The following object is masked from 'package:purrr':\n",
      "\n",
      "    set_names\n",
      "\n",
      "The following object is masked from 'package:tidyr':\n",
      "\n",
      "    extract\n",
      "\n"
     ]
    },
    {
     "data": {},
     "metadata": {},
     "output_type": "display_data"
    },
    {
     "data": {
      "image/png": "[encoded data removed]",
      "text/plain": [
       "plot without title"
      ]
     },
     "metadata": {},
     "output_type": "display_data"
    }
   ],
   "source": [
    "# Vizualizace korelační matice pomocí metody multidimenzionálního škálování\n",
    "library(ggpubr)\n",
    "mds.cor <- (1 - M) %>%\n",
    "cmdscale() %>%\n",
    "as_tibble()\n",
    "\n",
    "colnames(mds.cor) <- c(\"Dim.1\", \"Dim.2\")\n",
    "ggscatter(mds.cor, x = \"Dim.1\", y = \"Dim.2\", \n",
    "          size = 1,\n",
    "          label = colnames(M),\n",
    "          repel = TRUE)"
   ]
  },
  {
   "cell_type": "markdown",
   "metadata": {},
   "source": [
    "## Detekce lži\n",
    "\n",
    "* Američtí studenti lžou v průměru 2krát denně (DePaulo et al., 1996). \n",
    "* Lidé se při detekci lži často spoléhají na neverbální chování - při lhaní se vyskytuje méně ilustrátorů a více manipulátorů a emblémů (Ekman, 2001).\n",
    "* Spolehlivějším vodítkem jsou verbální vodítka (Vrij, 2008) – např. při lhaní tvrzení obsahují méně detailů a méně kvalifikátorů (“Nejsem si jistý, ale myslím si, že…”) (DePaulo, Lindsay,Malone, et al., 2003).\n",
    "* Lidé, včetně profesionálů, nejsou příliš úspěšní v detekci lži - většinou okolo 55 % a jen pár přesáhne 70 % - viz tabulka níže (Ekman, 2001; Ekman & O’Sullivan, 1991; Ekman, O’Sullivan, & Frank, 1999; Zuckerman, DePaulo, & Rosenthal, 1981; Kraut & Poe, 1980; DePaulo & Pfeifer, 1986).\n",
    "\n",
    "<img src=\"www/lzi.png\">\n",
    "(Ekman, O‘Sullivan, & Frank, 1999)\n",
    "* Vliv praxe vs. sebevýběr (?).\n",
    "* Existuje pouze malá až nulová korelace mezi vírou ve vlastní schopnost detekovat lež a skutečnou schopností lež detekovat (Ekman, 2001)."
   ]
  },
  {
   "cell_type": "markdown",
   "metadata": {},
   "source": [
    "## Detekce lži a mikrovýrazy\n",
    "\n",
    "Schopnost zachytit a rozlišit mikrovýrazy může být užitečná při detekci lži.\n",
    "\n",
    "[<img src=\"www/ekman.png\">](https://www.youtube.com/watch?v=qGQf9O61cww)"
   ]
  },
  {
   "cell_type": "markdown",
   "metadata": {},
   "source": [
    "Zachycení a rozlišení emočních mikrovýrazů lze do určité míry automatizovat.\n",
    "\n",
    "[<img src=\"www/facereader.png\">](https://www.youtube.com/watch?v=cvjHHD_qgEU&list=PLX4xBCPBmZGiQ7XZt-zuk9LZ9DlIvkim9&index=1)"
   ]
  },
  {
   "cell_type": "markdown",
   "metadata": {},
   "source": [
    "Zachycení a rozlišení emočních mikrovýrazů lze do určité míry natrénovat.\n",
    "\n",
    "[<img src=\"www/mett.png\">](https://www.paulekman.com/product/ekman-mett-lite/)"
   ]
  },
  {
   "cell_type": "markdown",
   "metadata": {},
   "source": [
    "[<img src=\"www/trainer.png\">](https://www.youtube.com/watch?v=QFK327d01Kg)"
   ]
  },
  {
   "cell_type": "markdown",
   "metadata": {},
   "source": [
    "[<img src=\"www/trainer2.png\">](http://emotionen-lesen-lernen.de/index.php)"
   ]
  },
  {
   "cell_type": "markdown",
   "metadata": {},
   "source": [
    "## Osobnost vepsaná  ve tváři\n",
    "\n",
    "[<img src=\"www/pivonkova.png\">](http://www.ceskatelevize.cz/porady/10121359557-port/687-na-prvni-pohled/video/)"
   ]
  },
  {
   "cell_type": "markdown",
   "metadata": {},
   "source": [
    "### Příklad výzkumné úlohy\n",
    "* **Podnětový materiál:** 20 dvojic fotografií mužských a ženských tváří vytvořených superponováním většího počtu fotografií tváří osob s vysokými, resp. nízkými skóry v dotazníku měřícím 5 základních osobnostních rysů (fotografie pocházejí z výzkumu [Littlea a Perretta (2007)](https://onlinelibrary.wiley.com/doi/full/10.1348/000712606X109648)).\n",
    "* **Zadání/otázka:** Kdo z dané dvojice má danou osobnostní vlastnost ve větší míře?\n",
    "* **On-line formulář:** https://goo.gl/wRZ5OS\n",
    "\n",
    "<img src=\"www/faces.png\">"
   ]
  },
  {
   "cell_type": "code",
   "execution_count": 10,
   "metadata": {},
   "outputs": [
    {
     "name": "stdout",
     "output_type": "stream",
     "text": [
      "  Data\n",
      "number of successes = 13, number of trials = 20\n",
      "\n",
      "  Model parameters and generated quantities\n",
      "theta: the relative frequency of success\n",
      "x_pred: predicted number of successes in a replication\n",
      "\n",
      "  Measures\n",
      "         mean    sd HDIlo HDIup %<comp %>comp\n",
      "theta   0.635 0.101 0.374  0.87    0.1    0.9\n",
      "x_pred 12.694 2.919 5.000 19.00    0.0    1.0\n",
      "\n",
      "'HDIlo' and 'HDIup' are the limits of a 99% HDI credible interval.\n",
      "'%<comp' and '%>comp' are the probabilities of the respective parameter being\n",
      "smaller or larger than 0.5.\n",
      "\n",
      "  Quantiles\n",
      "       q2.5%   q25% median   q75% q97.5%\n",
      "theta  0.428  0.566  0.641  0.707  0.818\n",
      "x_pred 7.000 11.000 13.000 15.000 18.000\n"
     ]
    },
    {
     "data": {
      "image/png": "[encoded data removed]",
      "text/plain": [
       "Plot with title \"Data w. Post. Pred.\""
      ]
     },
     "metadata": {},
     "output_type": "display_data"
    }
   ],
   "source": [
    "# Bayesovský binomický test\n",
    "fit2 <- bayes.binom.test(13, 20, conf.level = 0.99, p = 0.5)\n",
    "plot(fit2)\n",
    "summary(fit2)"
   ]
  },
  {
   "cell_type": "code",
   "execution_count": 11,
   "metadata": {},
   "outputs": [
    {
     "data": {
      "text/plain": [
       "\n",
       "\tExact binomial test\n",
       "\n",
       "data:  13 and 20\n",
       "number of successes = 13, number of trials = 20, p-value = 0.2632\n",
       "alternative hypothesis: true probability of success is not equal to 0.5\n",
       "99 percent confidence interval:\n",
       " 0.3434314 0.8861202\n",
       "sample estimates:\n",
       "probability of success \n",
       "                  0.65 \n"
      ]
     },
     "metadata": {},
     "output_type": "display_data"
    }
   ],
   "source": [
    "# Klasický binomický test\n",
    "binom.test(13, 20, conf.level = 0.99, p = 0.5)"
   ]
  }
 ],
 "metadata": {
  "kernelspec": {
   "display_name": "R",
   "language": "R",
   "name": "ir"
  },
  "language_info": {
   "codemirror_mode": "r",
   "file_extension": ".r",
   "mimetype": "text/x-r-source",
   "name": "R",
   "pygments_lexer": "r",
   "version": "3.4.4"
  }
 },
 "nbformat": 4,
 "nbformat_minor": 2
}
