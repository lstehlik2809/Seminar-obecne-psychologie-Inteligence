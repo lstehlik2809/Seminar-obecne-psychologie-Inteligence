{
 "cells": [
  {
   "cell_type": "markdown",
   "metadata": {},
   "source": [
    "# Seminář obecné psychologie - Rozpoznávání ne/pravého úsměvu\n",
    "\n",
    "## Úvod\n",
    "\n",
    "Francouzský lékař [Guillaume Duchenne](https://cs.wikipedia.org/wiki/Guillaume_Duchenne_de_Boulogne) (1806– 1875) a jeho dobrovolník při stimulaci obličejových svalů elektrickým proudem za účelem identifikace svalů, které jsou zapojené v různých obličejových výrazech.\n",
    "\n",
    "<img src=\"www/duchenne.png\">"
   ]
  },
  {
   "cell_type": "markdown",
   "metadata": {},
   "source": [
    "Guillaume Duchenne zjistil, že opravdový úsměv zahrnuje nejen zygomaticus major (zvedající koutky úst), ale také orbicularis oculi (vytvářející „vějířky“ okolo očí), který není na rozdíl od z.m. pod volní kontrolou.\n",
    "\n",
    "<img src=\"www/oblicejove_svaly.png\">"
   ]
  },
  {
   "cell_type": "markdown",
   "metadata": {},
   "source": [
    "Psycholog [Paul Ekman](https://cs.wikipedia.org/wiki/Paul_Ekman), známý výzkumník v oblasti vyjadřování emocí prostřednctvím mimických výrazů ve tváři, demonstruje dva druhy úsměvů - duchennovský (pravý) úsměv (vlevo) a neduchennovský (nepravý) úsměv (vpravo).   \n",
    "<img src=\"www/ekman_duchenne.png\">"
   ]
  },
  {
   "cell_type": "markdown",
   "metadata": {},
   "source": [
    "Klíčový je rozdíl ve výrazu v oblasti očí - viz detail níže. \n",
    "\n",
    "<img src=\"www/oci.png\">"
   ]
  },
  {
   "cell_type": "markdown",
   "metadata": {},
   "source": [
    "A nyní v celku i se zbytkem obličeje.  \n",
    "\n",
    "<img src=\"www/oblicej.png\">"
   ]
  },
  {
   "cell_type": "markdown",
   "metadata": {},
   "source": [
    "## Výzkumná úloha ze semináře\n",
    "\n",
    "### Hlavní výzkumná otázka\n",
    "* Dokážou lidé rozpoznat pravý úsměv od nepravého?\n",
    "\n",
    "### Měřená proměnná\n",
    "* Počet úspěšných identifikací ne/pravého úsměvu v rámci 20 pokusů.\n",
    "\n",
    "### Statistická hypotéza\n",
    "* Lidé dokážou správně rozpoznat ne/pravý úsměv častěji než by odpovídalo prostému hádání (tzn., že budou úspěšní ve více jak 10 pokusech z 20).\n",
    "\n",
    "### Vedlejší výzkumné otázky zkoumané v rámci explorativní analýzy\n",
    "* Jaký je vztah mezi schopností rozpoznávat ne/pravý úsměv a emoční inteligencí, sociální inteligencí, obecnou inteligencí, mírou i/racionality, \"big-five\" osobnostními charakteristikami a pohlavím (viz data z předchozího výzkumu).\n",
    "\n",
    "### Podnětový materiál\n",
    "<img src=\"www/podnety.png\">\n",
    "(https://www.surveymonkey.com/r/SmileRead)\n",
    "\n",
    "### Data"
   ]
  },
  {
   "cell_type": "code",
   "execution_count": null,
   "metadata": {},
   "outputs": [],
   "source": []
  },
  {
   "cell_type": "markdown",
   "metadata": {},
   "source": [
    "### Popis výzkumného souboru"
   ]
  },
  {
   "cell_type": "code",
   "execution_count": null,
   "metadata": {},
   "outputs": [],
   "source": []
  },
  {
   "cell_type": "markdown",
   "metadata": {},
   "source": [
    "### Popisná statistika sledované proměnné"
   ]
  },
  {
   "cell_type": "code",
   "execution_count": null,
   "metadata": {},
   "outputs": [],
   "source": []
  },
  {
   "cell_type": "markdown",
   "metadata": {},
   "source": [
    "### Testování statistické hypotézy"
   ]
  },
  {
   "cell_type": "code",
   "execution_count": null,
   "metadata": {},
   "outputs": [],
   "source": []
  },
  {
   "cell_type": "markdown",
   "metadata": {},
   "source": [
    "### Explorační analýza"
   ]
  },
  {
   "cell_type": "code",
   "execution_count": null,
   "metadata": {},
   "outputs": [],
   "source": []
  },
  {
   "cell_type": "markdown",
   "metadata": {},
   "source": [
    "## Detekce lži\n",
    "\n",
    "* Američtí studenti lžou v průměru 2krát denně (DePaulo et al., 1996). \n",
    "* Lidé se při detekci lži často spoléhají na neverbální chování - při lhaní se vyskytuje méně ilustrátorů a více manipulátorů a emblémů (Ekman, 2001).\n",
    "* Spolehlivějším vodítkem jsou verbální vodítka (Vrij, 2008) – např. při lhaní tvrzení obsahují méně detailů a méně kvalifikátorů (“Nejsem si jistý, ale myslím si, že…”) (DePaulo, Lindsay,Malone, et al., 2003).\n",
    "* Lidé, včetně profesionálů, nejsou příliš úspěšní v detekci lži - většinou okolo 55 % a jen pár přesáhne 70 % - viz tabulka níže (Ekman, 2001; Ekman & O’Sullivan, 1991; Ekman, O’Sullivan, & Frank, 1999; Zuckerman, DePaulo, & Rosenthal, 1981; Kraut & Poe, 1980; DePaulo & Pfeifer, 1986).\n",
    "\n",
    "<img src=\"www/lzi.png\">\n",
    "(Ekman, O‘Sullivan, & Frank, 1999)\n",
    "* Vliv praxe vs. sebevýběr (?).\n",
    "* Existuje pouze malá až nulová korelace mezi vírou ve vlastní schopnost detekovat lež a skutečnou schopností lež detekovat (Ekman, 2001)."
   ]
  },
  {
   "cell_type": "markdown",
   "metadata": {},
   "source": [
    "## Detekce lži a mikrovýrazy\n",
    "\n",
    "Schopnost zachytit a rozlišit mikrovýrazy může být užitečná při detekci lži.\n",
    "\n",
    "[<img src=\"www/ekman.png\">](https://www.youtube.com/watch?v=qGQf9O61cww)"
   ]
  },
  {
   "cell_type": "markdown",
   "metadata": {},
   "source": [
    "Zachycení a rozlišení emočních mikrovýrazů lze do určité míry automatizovat.\n",
    "\n",
    "[<img src=\"www/facereader.png\">](https://www.youtube.com/watch?v=cvjHHD_qgEU&list=PLX4xBCPBmZGiQ7XZt-zuk9LZ9DlIvkim9&index=1)"
   ]
  },
  {
   "cell_type": "markdown",
   "metadata": {},
   "source": [
    "Zachycení a rozlišení emočních mikrovýrazů lze do určité míry natrénovat.\n",
    "\n",
    "[<img src=\"www/mett.png\">](https://www.paulekman.com/product/ekman-mett-lite/)"
   ]
  },
  {
   "cell_type": "markdown",
   "metadata": {},
   "source": [
    "[<img src=\"www/trainer.png\">](https://www.youtube.com/watch?v=QFK327d01Kg)"
   ]
  },
  {
   "cell_type": "markdown",
   "metadata": {},
   "source": [
    "[<img src=\"www/trainer2.png\">](http://emotionen-lesen-lernen.de/index.php)"
   ]
  },
  {
   "cell_type": "markdown",
   "metadata": {},
   "source": [
    "## Osobnost vepsaná  ve tváři\n",
    "\n",
    "[<img src=\"www/pivonkova.png\">](http://www.ceskatelevize.cz/porady/10121359557-port/687-na-prvni-pohled/video/)"
   ]
  },
  {
   "attachments": {},
   "cell_type": "markdown",
   "metadata": {},
   "source": [
    "### Příklad výzkumné úlohy\n",
    "* 20 dvojic mužských a ženských tváří (vytvořených superponováním většího počtu tváří osob s vysokými, resp. nízkými skóry v dotazníku měřícím 5 základních osobnostních rysů)\n",
    "* Kdo z dané dvojice má danou osobnostní vlastnost ve větší míře?\n",
    "* https://goo.gl/wRZ5OS\n",
    "\n",
    "<img src=\"www/faces.png\">"
   ]
  },
  {
   "cell_type": "code",
   "execution_count": null,
   "metadata": {},
   "outputs": [],
   "source": []
  }
 ],
 "metadata": {
  "kernelspec": {
   "display_name": "R",
   "language": "R",
   "name": "ir"
  },
  "language_info": {
   "codemirror_mode": "r",
   "file_extension": ".r",
   "mimetype": "text/x-r-source",
   "name": "R",
   "pygments_lexer": "r",
   "version": "3.4.4"
  }
 },
 "nbformat": 4,
 "nbformat_minor": 2
}
