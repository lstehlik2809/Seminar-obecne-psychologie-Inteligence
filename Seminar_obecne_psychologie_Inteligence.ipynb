{
 "cells": [
  {
   "attachments": {},
   "cell_type": "markdown",
   "metadata": {},
   "source": [
    "## Seminář obecné psychologie - Inteligence\n",
    "\n",
    "### Výzkumné cíle: \n",
    "- Srovnání výsledků skupiny studentů s dostupnými normami, resp. s výsledky získanými v rámci validizačních studií\n",
    "- Ověření nezávislosti konstruktů měřených jednotlivými testy\n",
    "\n",
    "### Měřené proměnné: \n",
    "- Obecná inteligence\n",
    "- Emoční inteligence\n",
    "- Sociální inteligence (Social Information Processing, Social Skills, Social Awareness)\n",
    "- Osobnostní rysy (Extraverze, Přívětivost, Svědomitost, Emoční stabilita, Otevřenost ke zkušenosti)\n",
    "\n",
    "### Metody: \n",
    "- 16 PF (Faktor B) (Cattell, 1998)\n",
    "- Measure of Emotional Intelligence (Schutte et al., 1998)\n",
    "- Tromsø Social Intelligence Scale (Silvera, Martinussen, & Dahl, 2001)\n",
    "- TIPI (Gosling, Rentfrow, & Swann, 2003)\n",
    "\n",
    "### Popis výzkumného souboru\n",
    "\n",
    "### Popisná statistika\n",
    "\n",
    "### Inferenční statistika\n"
   ]
  },
  {
   "cell_type": "code",
   "execution_count": null,
   "metadata": {},
   "outputs": [],
   "source": []
  }
 ],
 "metadata": {
  "kernelspec": {
   "display_name": "R",
   "language": "R",
   "name": "ir"
  },
  "language_info": {
   "codemirror_mode": "r",
   "file_extension": ".r",
   "mimetype": "text/x-r-source",
   "name": "R",
   "pygments_lexer": "r",
   "version": "3.4.4"
  }
 },
 "nbformat": 4,
 "nbformat_minor": 2
}
