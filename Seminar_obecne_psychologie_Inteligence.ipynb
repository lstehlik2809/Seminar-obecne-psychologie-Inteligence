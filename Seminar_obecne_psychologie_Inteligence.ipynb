{
 "cells": [
  {
   "cell_type": "markdown",
   "metadata": {},
   "source": [
    "## Seminář obecné psychologie - Inteligence\n",
    "\n",
    "### Výzkumné cíle: \n",
    "- Srovnání výsledků skupiny studentů s dostupnými normami, resp. s výsledky získanými v rámci validizačních studií\n",
    "- Odhad míry nezávislosti konstruktů měřených jednotlivými testy\n",
    "\n",
    "### Měřené proměnné: \n",
    "- Obecná inteligence\n",
    "- Kognitivní reflexivita\n",
    "- Tendence podléhat kognitivním zkreslením\n",
    "- Emoční inteligence\n",
    "- Sociální inteligence (Social Information Processing, Social Skills, Social Awareness)\n",
    "- Osobnostní rysy (Extraverze, Přívětivost, Svědomitost, Emoční stabilita, Otevřenost ke zkušenosti)\n",
    "\n",
    "### Metody: \n",
    "- 16 PF (Faktor B) (Cattell, 1998)\n",
    "- CRT-L2 (Frederick, 2005; Primi et al., 2015; Toplak, West, & Stanovich, 2014)\n",
    "- Sada 6 úloh inspirovaných výzkumem heuristik a zkreslení, které zjišťují některé aspekty racionálního myšlení (Toplak, West, & Stanovich, 2011)\n",
    "- Measure of Emotional Intelligence (Schutte et al., 1998)\n",
    "- Tromsø Social Intelligence Scale (Silvera, Martinussen, & Dahl, 2001)\n",
    "- TIPI (Gosling, Rentfrow, & Swann, 2003)"
   ]
  },
  {
   "cell_type": "markdown",
   "metadata": {},
   "source": [
    "### Data"
   ]
  },
  {
   "cell_type": "code",
   "execution_count": 173,
   "metadata": {},
   "outputs": [
    {
     "name": "stderr",
     "output_type": "stream",
     "text": [
      "Parsed with column specification:\n",
      "cols(\n",
      "  Vek = col_integer(),\n",
      "  Pohlavi = col_integer(),\n",
      "  Obecna_inteligence = col_integer(),\n",
      "  CRT_Long = col_integer(),\n",
      "  Cognitive_Biases_Sum = col_integer(),\n",
      "  Emocni_inteligence = col_integer(),\n",
      "  Social_information_processing = col_integer(),\n",
      "  Social_skills = col_integer(),\n",
      "  Social_awareness = col_integer(),\n",
      "  Extraverze = col_double(),\n",
      "  Privetivost = col_double(),\n",
      "  Svedomitost = col_double(),\n",
      "  Emocni_stabilita = col_double(),\n",
      "  Otevrenost = col_double()\n",
      ")\n"
     ]
    },
    {
     "name": "stdout",
     "output_type": "stream",
     "text": [
      "Observations: 65\n",
      "Variables: 14\n",
      "$ Vek                           <int> 20, 20, 21, 21, 23, 21, 19, 20, 19, 2...\n",
      "$ Pohlavi                       <int> 0, 0, 1, 0, 0, 0, 0, 0, 0, 0, 0, 0, 1...\n",
      "$ Obecna_inteligence            <int> 11, NA, 10, 12, NA, 12, 11, 13, 13, 1...\n",
      "$ CRT_Long                      <int> 5, NA, 8, 6, NA, 5, 8, 5, NA, 3, NA, ...\n",
      "$ Cognitive_Biases_Sum          <int> 2, NA, 2, 4, NA, 2, 3, 2, NA, 2, NA, ...\n",
      "$ Emocni_inteligence            <int> 127, NA, 161, 101, NA, 133, 144, 121,...\n",
      "$ Social_information_processing <int> 33, NA, 48, 29, NA, 45, 42, 38, 44, 3...\n",
      "$ Social_skills                 <int> 33, NA, 47, 21, NA, 45, 36, 37, 26, 3...\n",
      "$ Social_awareness              <int> 36, NA, 36, 22, NA, 43, 44, 46, 38, 4...\n",
      "$ Extraverze                    <dbl> 4.0, 5.5, 6.0, NA, NA, 6.0, 4.5, NA, ...\n",
      "$ Privetivost                   <dbl> 5.5, 4.5, 5.5, NA, NA, 5.0, 4.5, NA, ...\n",
      "$ Svedomitost                   <dbl> 6.5, 3.5, 6.5, NA, NA, 7.0, 5.5, NA, ...\n",
      "$ Emocni_stabilita              <dbl> 6.0, 4.0, 6.0, NA, NA, 5.5, 1.5, NA, ...\n",
      "$ Otevrenost                    <dbl> 4.5, 6.5, 6.5, NA, NA, 4.5, 5.5, NA, ...\n"
     ]
    }
   ],
   "source": [
    "# Načtěme si knihovny, které budeme potřebovat pro načtení dat a jejich přípravu na následnou analýzu a vizualizaci. \n",
    "library(tidyverse)\n",
    "\n",
    "# Načtěme si naše data a podívejme se na jejich strukturu.\n",
    "myData <- read_delim('Data_Inteligence.csv', delim = \";\")\n",
    "glimpse(myData)"
   ]
  },
  {
   "cell_type": "code",
   "execution_count": 174,
   "metadata": {},
   "outputs": [],
   "source": [
    "# Upravme proměnnou 'Pohlaví' na kategoriální proměnnou se smyslupným označením jejích jednotlivých úrovní  \n",
    "myData$Pohlavi <- as.factor(ifelse(myData$Pohlavi == 1, \"M\", \"F\"))"
   ]
  },
  {
   "cell_type": "markdown",
   "metadata": {},
   "source": [
    "### Popis výzkumného souboru"
   ]
  },
  {
   "cell_type": "code",
   "execution_count": 221,
   "metadata": {},
   "outputs": [
    {
     "data": {
      "text/plain": [
       ". \n",
       "\n",
       " 1  Variables      44  Observations\n",
       "--------------------------------------------------------------------------------\n",
       "Vek \n",
       "       n  missing distinct     Info     Mean      Gmd \n",
       "      44        0        7    0.916    20.84     2.35 \n",
       "                                                    \n",
       "Value         19    20    21    22    24    26    43\n",
       "Frequency     12    17     8     4     1     1     1\n",
       "Proportion 0.273 0.386 0.182 0.091 0.023 0.023 0.023\n",
       "--------------------------------------------------------------------------------"
      ]
     },
     "metadata": {},
     "output_type": "display_data"
    }
   ],
   "source": [
    "# Z hlediska věku\n",
    "library(Hmisc)\n",
    "myData %>%\n",
    "filter(is.na(Obecna_inteligence) == F, \n",
    "       is.na(Emocni_inteligence) == F, \n",
    "       is.na(Social_information_processing) == F, \n",
    "       is.na(Social_skills) == F,\n",
    "       is.na(Social_awareness) == F) %>%\n",
    "select(Vek) %>%\n",
    "Hmisc::describe()"
   ]
  },
  {
   "cell_type": "code",
   "execution_count": 211,
   "metadata": {},
   "outputs": [
    {
     "data": {},
     "metadata": {},
     "output_type": "display_data"
    },
    {
     "data": {
      "image/png": "[encoded data removed]",
      "text/plain": [
       "plot without title"
      ]
     },
     "metadata": {},
     "output_type": "display_data"
    }
   ],
   "source": [
    "myData %>%\n",
    "filter(is.na(Obecna_inteligence) == F, \n",
    "       is.na(Emocni_inteligence) == F, \n",
    "       is.na(Social_information_processing) == F, \n",
    "       is.na(Social_skills) == F,\n",
    "       is.na(Social_awareness) == F) %>%\n",
    "select(Vek) %>%\n",
    "ggplot(aes(Vek))+\n",
    "geom_histogram(color = \"white\", binwidth = 1)+\n",
    "scale_x_continuous(breaks = seq(18, 46, 2), limits = c(18, 46))+\n",
    "xlab(\"Věk\")+\n",
    "ylab(\"Četnost\")"
   ]
  },
  {
   "cell_type": "code",
   "execution_count": 183,
   "metadata": {},
   "outputs": [
    {
     "data": {
      "text/plain": [
       "\n",
       " F  M \n",
       "55 10 "
      ]
     },
     "metadata": {},
     "output_type": "display_data"
    },
    {
     "data": {
      "text/plain": [
       "\n",
       "   F    M \n",
       "0.85 0.15 "
      ]
     },
     "metadata": {},
     "output_type": "display_data"
    }
   ],
   "source": [
    "# Z hlediska pohlaví\n",
    "table(myData$Pohlavi)\n",
    "round(prop.table(table(myData$Pohlavi)),2)"
   ]
  },
  {
   "cell_type": "markdown",
   "metadata": {},
   "source": [
    "### Popisná statistika"
   ]
  },
  {
   "cell_type": "code",
   "execution_count": 150,
   "metadata": {},
   "outputs": [
    {
     "data": {
      "text/html": [
       "<table>\n",
       "<thead><tr><th></th><th scope=col>vars</th><th scope=col>n</th><th scope=col>mean</th><th scope=col>sd</th><th scope=col>median</th><th scope=col>trimmed</th><th scope=col>mad</th><th scope=col>min</th><th scope=col>max</th><th scope=col>range</th><th scope=col>skew</th><th scope=col>kurtosis</th><th scope=col>se</th></tr></thead>\n",
       "<tbody>\n",
       "\t<tr><th scope=row>Obecna_inteligence</th><td> 1          </td><td>46          </td><td> 11.565217  </td><td> 1.5585203  </td><td> 12.0       </td><td> 11.552632  </td><td> 1.48260    </td><td> 9.0        </td><td> 15.0       </td><td> 6.0        </td><td> 0.070929719</td><td>-0.78236706 </td><td>0.2297913   </td></tr>\n",
       "\t<tr><th scope=row>CRT_Long</th><td> 2          </td><td>37          </td><td>  5.918919  </td><td> 2.0999785  </td><td>  6.0       </td><td>  6.032258  </td><td> 2.96520    </td><td> 1.0        </td><td>  9.0       </td><td> 8.0        </td><td>-0.333766051</td><td>-0.65458327 </td><td>0.3452343   </td></tr>\n",
       "\t<tr><th scope=row>Cognitive_Biases_Sum</th><td> 3          </td><td>37          </td><td>  1.918919  </td><td> 1.0375821  </td><td>  2.0       </td><td>  1.935484  </td><td> 1.48260    </td><td> 0.0        </td><td>  4.0       </td><td> 4.0        </td><td> 0.010816303</td><td>-0.72373223 </td><td>0.1705774   </td></tr>\n",
       "\t<tr><th scope=row>Emocni_inteligence</th><td> 4          </td><td>47          </td><td>126.744681  </td><td>12.1984819  </td><td>125.0       </td><td>126.641026  </td><td> 8.89560    </td><td>99.0        </td><td>161.0       </td><td>62.0        </td><td> 0.297770704</td><td> 0.35777018 </td><td>1.7793315   </td></tr>\n",
       "\t<tr><th scope=row>Social_information_processing</th><td> 5          </td><td>47          </td><td> 39.489362  </td><td> 4.6197701  </td><td> 39.0       </td><td> 39.641026  </td><td> 4.44780    </td><td>29.0        </td><td> 49.0       </td><td>20.0        </td><td>-0.373280330</td><td> 0.01462936 </td><td>0.6738627   </td></tr>\n",
       "\t<tr><th scope=row>Social_skills</th><td> 6          </td><td>47          </td><td> 33.127660  </td><td> 7.9799123  </td><td> 33.0       </td><td> 33.256410  </td><td>10.37820    </td><td>16.0        </td><td> 47.0       </td><td>31.0        </td><td>-0.170828653</td><td>-1.02684616 </td><td>1.1639898   </td></tr>\n",
       "\t<tr><th scope=row>Social_awareness</th><td> 7          </td><td>45          </td><td> 38.755556  </td><td> 5.8002961  </td><td> 39.0       </td><td> 39.351351  </td><td> 5.93040    </td><td>22.0        </td><td> 48.0       </td><td>26.0        </td><td>-0.897669515</td><td> 0.53583624 </td><td>0.8646571   </td></tr>\n",
       "\t<tr><th scope=row>Extraverze</th><td> 8          </td><td>42          </td><td>  4.142857  </td><td> 1.3264923  </td><td>  4.0       </td><td>  4.147059  </td><td> 1.48260    </td><td> 1.0        </td><td>  6.5       </td><td> 5.5        </td><td>-0.064171692</td><td>-0.76031006 </td><td>0.2046822   </td></tr>\n",
       "\t<tr><th scope=row>Privetivost</th><td> 9          </td><td>42          </td><td>  5.297619  </td><td> 0.7813335  </td><td>  5.0       </td><td>  5.264706  </td><td> 0.74130    </td><td> 3.5        </td><td>  7.0       </td><td> 3.5        </td><td> 0.145744518</td><td>-0.80681918 </td><td>0.1205624   </td></tr>\n",
       "\t<tr><th scope=row>Svedomitost</th><td>10          </td><td>42          </td><td>  5.369048  </td><td> 1.2200536  </td><td>  5.5       </td><td>  5.470588  </td><td> 1.48260    </td><td> 1.5        </td><td>  7.0       </td><td> 5.5        </td><td>-0.951216912</td><td> 0.88877406 </td><td>0.1882584   </td></tr>\n",
       "\t<tr><th scope=row>Emocni_stabilita</th><td>11          </td><td>42          </td><td>  4.047619  </td><td> 1.4725518  </td><td>  4.0       </td><td>  4.058824  </td><td> 1.85325    </td><td> 1.5        </td><td>  6.5       </td><td> 5.0        </td><td>-0.001530203</td><td>-1.28300261 </td><td>0.2272197   </td></tr>\n",
       "\t<tr><th scope=row>Otevrenost</th><td>12          </td><td>42          </td><td>  5.190476  </td><td> 1.1736559  </td><td>  5.5       </td><td>  5.294118  </td><td> 0.74130    </td><td> 2.5        </td><td>  7.0       </td><td> 4.5        </td><td>-0.682064270</td><td>-0.33740730 </td><td>0.1810990   </td></tr>\n",
       "</tbody>\n",
       "</table>\n"
      ],
      "text/latex": [
       "\\begin{tabular}{r|lllllllllllll}\n",
       "  & vars & n & mean & sd & median & trimmed & mad & min & max & range & skew & kurtosis & se\\\\\n",
       "\\hline\n",
       "\tObecna\\_inteligence &  1           & 46           &  11.565217   &  1.5585203   &  12.0        &  11.552632   &  1.48260     &  9.0         &  15.0        &  6.0         &  0.070929719 & -0.78236706  & 0.2297913   \\\\\n",
       "\tCRT\\_Long &  2           & 37           &   5.918919   &  2.0999785   &   6.0        &   6.032258   &  2.96520     &  1.0         &   9.0        &  8.0         & -0.333766051 & -0.65458327  & 0.3452343   \\\\\n",
       "\tCognitive\\_Biases\\_Sum &  3           & 37           &   1.918919   &  1.0375821   &   2.0        &   1.935484   &  1.48260     &  0.0         &   4.0        &  4.0         &  0.010816303 & -0.72373223  & 0.1705774   \\\\\n",
       "\tEmocni\\_inteligence &  4           & 47           & 126.744681   & 12.1984819   & 125.0        & 126.641026   &  8.89560     & 99.0         & 161.0        & 62.0         &  0.297770704 &  0.35777018  & 1.7793315   \\\\\n",
       "\tSocial\\_information\\_processing &  5           & 47           &  39.489362   &  4.6197701   &  39.0        &  39.641026   &  4.44780     & 29.0         &  49.0        & 20.0         & -0.373280330 &  0.01462936  & 0.6738627   \\\\\n",
       "\tSocial\\_skills &  6           & 47           &  33.127660   &  7.9799123   &  33.0        &  33.256410   & 10.37820     & 16.0         &  47.0        & 31.0         & -0.170828653 & -1.02684616  & 1.1639898   \\\\\n",
       "\tSocial\\_awareness &  7           & 45           &  38.755556   &  5.8002961   &  39.0        &  39.351351   &  5.93040     & 22.0         &  48.0        & 26.0         & -0.897669515 &  0.53583624  & 0.8646571   \\\\\n",
       "\tExtraverze &  8           & 42           &   4.142857   &  1.3264923   &   4.0        &   4.147059   &  1.48260     &  1.0         &   6.5        &  5.5         & -0.064171692 & -0.76031006  & 0.2046822   \\\\\n",
       "\tPrivetivost &  9           & 42           &   5.297619   &  0.7813335   &   5.0        &   5.264706   &  0.74130     &  3.5         &   7.0        &  3.5         &  0.145744518 & -0.80681918  & 0.1205624   \\\\\n",
       "\tSvedomitost & 10           & 42           &   5.369048   &  1.2200536   &   5.5        &   5.470588   &  1.48260     &  1.5         &   7.0        &  5.5         & -0.951216912 &  0.88877406  & 0.1882584   \\\\\n",
       "\tEmocni\\_stabilita & 11           & 42           &   4.047619   &  1.4725518   &   4.0        &   4.058824   &  1.85325     &  1.5         &   6.5        &  5.0         & -0.001530203 & -1.28300261  & 0.2272197   \\\\\n",
       "\tOtevrenost & 12           & 42           &   5.190476   &  1.1736559   &   5.5        &   5.294118   &  0.74130     &  2.5         &   7.0        &  4.5         & -0.682064270 & -0.33740730  & 0.1810990   \\\\\n",
       "\\end{tabular}\n"
      ],
      "text/markdown": [
       "\n",
       "| <!--/--> | vars | n | mean | sd | median | trimmed | mad | min | max | range | skew | kurtosis | se | \n",
       "|---|---|---|---|---|---|---|---|---|---|---|---|\n",
       "| Obecna_inteligence |  1           | 46           |  11.565217   |  1.5585203   |  12.0        |  11.552632   |  1.48260     |  9.0         |  15.0        |  6.0         |  0.070929719 | -0.78236706  | 0.2297913    | \n",
       "| CRT_Long |  2           | 37           |   5.918919   |  2.0999785   |   6.0        |   6.032258   |  2.96520     |  1.0         |   9.0        |  8.0         | -0.333766051 | -0.65458327  | 0.3452343    | \n",
       "| Cognitive_Biases_Sum |  3           | 37           |   1.918919   |  1.0375821   |   2.0        |   1.935484   |  1.48260     |  0.0         |   4.0        |  4.0         |  0.010816303 | -0.72373223  | 0.1705774    | \n",
       "| Emocni_inteligence |  4           | 47           | 126.744681   | 12.1984819   | 125.0        | 126.641026   |  8.89560     | 99.0         | 161.0        | 62.0         |  0.297770704 |  0.35777018  | 1.7793315    | \n",
       "| Social_information_processing |  5           | 47           |  39.489362   |  4.6197701   |  39.0        |  39.641026   |  4.44780     | 29.0         |  49.0        | 20.0         | -0.373280330 |  0.01462936  | 0.6738627    | \n",
       "| Social_skills |  6           | 47           |  33.127660   |  7.9799123   |  33.0        |  33.256410   | 10.37820     | 16.0         |  47.0        | 31.0         | -0.170828653 | -1.02684616  | 1.1639898    | \n",
       "| Social_awareness |  7           | 45           |  38.755556   |  5.8002961   |  39.0        |  39.351351   |  5.93040     | 22.0         |  48.0        | 26.0         | -0.897669515 |  0.53583624  | 0.8646571    | \n",
       "| Extraverze |  8           | 42           |   4.142857   |  1.3264923   |   4.0        |   4.147059   |  1.48260     |  1.0         |   6.5        |  5.5         | -0.064171692 | -0.76031006  | 0.2046822    | \n",
       "| Privetivost |  9           | 42           |   5.297619   |  0.7813335   |   5.0        |   5.264706   |  0.74130     |  3.5         |   7.0        |  3.5         |  0.145744518 | -0.80681918  | 0.1205624    | \n",
       "| Svedomitost | 10           | 42           |   5.369048   |  1.2200536   |   5.5        |   5.470588   |  1.48260     |  1.5         |   7.0        |  5.5         | -0.951216912 |  0.88877406  | 0.1882584    | \n",
       "| Emocni_stabilita | 11           | 42           |   4.047619   |  1.4725518   |   4.0        |   4.058824   |  1.85325     |  1.5         |   6.5        |  5.0         | -0.001530203 | -1.28300261  | 0.2272197    | \n",
       "| Otevrenost | 12           | 42           |   5.190476   |  1.1736559   |   5.5        |   5.294118   |  0.74130     |  2.5         |   7.0        |  4.5         | -0.682064270 | -0.33740730  | 0.1810990    | \n",
       "\n",
       "\n"
      ],
      "text/plain": [
       "                              vars n  mean       sd         median trimmed   \n",
       "Obecna_inteligence             1   46  11.565217  1.5585203  12.0   11.552632\n",
       "CRT_Long                       2   37   5.918919  2.0999785   6.0    6.032258\n",
       "Cognitive_Biases_Sum           3   37   1.918919  1.0375821   2.0    1.935484\n",
       "Emocni_inteligence             4   47 126.744681 12.1984819 125.0  126.641026\n",
       "Social_information_processing  5   47  39.489362  4.6197701  39.0   39.641026\n",
       "Social_skills                  6   47  33.127660  7.9799123  33.0   33.256410\n",
       "Social_awareness               7   45  38.755556  5.8002961  39.0   39.351351\n",
       "Extraverze                     8   42   4.142857  1.3264923   4.0    4.147059\n",
       "Privetivost                    9   42   5.297619  0.7813335   5.0    5.264706\n",
       "Svedomitost                   10   42   5.369048  1.2200536   5.5    5.470588\n",
       "Emocni_stabilita              11   42   4.047619  1.4725518   4.0    4.058824\n",
       "Otevrenost                    12   42   5.190476  1.1736559   5.5    5.294118\n",
       "                              mad      min  max   range skew        \n",
       "Obecna_inteligence             1.48260  9.0  15.0  6.0   0.070929719\n",
       "CRT_Long                       2.96520  1.0   9.0  8.0  -0.333766051\n",
       "Cognitive_Biases_Sum           1.48260  0.0   4.0  4.0   0.010816303\n",
       "Emocni_inteligence             8.89560 99.0 161.0 62.0   0.297770704\n",
       "Social_information_processing  4.44780 29.0  49.0 20.0  -0.373280330\n",
       "Social_skills                 10.37820 16.0  47.0 31.0  -0.170828653\n",
       "Social_awareness               5.93040 22.0  48.0 26.0  -0.897669515\n",
       "Extraverze                     1.48260  1.0   6.5  5.5  -0.064171692\n",
       "Privetivost                    0.74130  3.5   7.0  3.5   0.145744518\n",
       "Svedomitost                    1.48260  1.5   7.0  5.5  -0.951216912\n",
       "Emocni_stabilita               1.85325  1.5   6.5  5.0  -0.001530203\n",
       "Otevrenost                     0.74130  2.5   7.0  4.5  -0.682064270\n",
       "                              kurtosis    se       \n",
       "Obecna_inteligence            -0.78236706 0.2297913\n",
       "CRT_Long                      -0.65458327 0.3452343\n",
       "Cognitive_Biases_Sum          -0.72373223 0.1705774\n",
       "Emocni_inteligence             0.35777018 1.7793315\n",
       "Social_information_processing  0.01462936 0.6738627\n",
       "Social_skills                 -1.02684616 1.1639898\n",
       "Social_awareness               0.53583624 0.8646571\n",
       "Extraverze                    -0.76031006 0.2046822\n",
       "Privetivost                   -0.80681918 0.1205624\n",
       "Svedomitost                    0.88877406 0.1882584\n",
       "Emocni_stabilita              -1.28300261 0.2272197\n",
       "Otevrenost                    -0.33740730 0.1810990"
      ]
     },
     "metadata": {},
     "output_type": "display_data"
    }
   ],
   "source": [
    "library(psych)\n",
    "\n",
    "myData %>%\n",
    "select(-Vek, -Pohlavi) %>%\n",
    "psych::describe()"
   ]
  },
  {
   "cell_type": "markdown",
   "metadata": {},
   "source": [
    "### Inferenční statistika"
   ]
  },
  {
   "cell_type": "code",
   "execution_count": null,
   "metadata": {},
   "outputs": [],
   "source": []
  }
 ],
 "metadata": {
  "kernelspec": {
   "display_name": "R",
   "language": "R",
   "name": "ir"
  },
  "language_info": {
   "codemirror_mode": "r",
   "file_extension": ".r",
   "mimetype": "text/x-r-source",
   "name": "R",
   "pygments_lexer": "r",
   "version": "3.4.4"
  }
 },
 "nbformat": 4,
 "nbformat_minor": 2
}
